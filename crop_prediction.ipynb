# %%
import numpy as np 
import pandas as pd
import warnings 
import seaborn as sns
import matplotlib.pyplot as plt

# %%
df= pd.read_csv('Crop_recommendation.csv')
df

# %%
df.describe()

# %%
df.dropna()
df.describe()
df.drop_duplicates()
df.describe()

# %%
df.head(5)

# %%
plt.figure(figsize=(12,5))
plt.subplot(1,2,1)
sns.histplot(df['temperature'],color="purple",bins=15,kde=True,alpha=0.2)
plt.subplot(1, 2, 2)
sns.histplot(df['ph'],color="green",bins=15,kde=True,alpha=0.2)

# %%
sns.boxplot(x='label',y='ph',data=df,color='green')

# %%
c=df.label.astype('category')
targets = dict(enumerate(c.cat.categories))
targets
df['target']=c.cat.codes
df

# %%
y=df['target']
x = df.drop(columns=['target','label'])
#x=df.drop(columns='label')
x

# %%
sns.heatmap(x.corr())

# %%
from sklearn.model_selection import train_test_split
from sklearn.preprocessing import MinMaxScaler

# %%
x_train,x_test,y_train,y_test=train_test_split(x,y)
scaler=MinMaxScaler()

# %%
x_train_scaled=scaler.fit_transform(x_train)


# %%
x_test_scaled=scaler.transform(x_test)


# %%
from sklearn.tree import DecisionTreeClassifier 
from sklearn.metrics import accuracy_score 
from sklearn.ensemble import RandomForestClassifier 
from sklearn.ensemble import GradientBoostingClassifier

# %%
model=DecisionTreeClassifier(random_state=42).fit(x_train,y_train)

# %%
model.score(x_test,y_test)

# %%
model.feature_importances_

# %%
plt.figure(figsize=(10,4), dpi=80)
c_features = len(x_train.columns)
plt.barh(range(c_features), model.feature_importances_)
plt.xlabel("Feature importance")
plt.ylabel("Feature name")
plt.yticks(np.arange(c_features), x_train.columns)
plt.show()

# %%
model_rf = RandomForestClassifier(n_estimators=200,max_depth=5,random_state=42).fit(x_train,y_train)

# %%
model_rf.score(x_test,y_test)

# %%
model_gb = GradientBoostingClassifier().fit(x_train,y_train)

# %%
model_gb.score(x_test,y_test)

# %%
from sklearn.metrics import confusion_matrix
mat=confusion_matrix(y_test,model_gb.predict(x_test))

# %%
print(mat)

# %%
# Plot the confusion matrix as a heatmap
plt.figure(figsize=(6, 5))
sns.heatmap(mat, annot=True, fmt='g', cmap='Blues', xticklabels=['Class 0', 'Class 1'], yticklabels=['Class 0', 'Class 1'])
plt.xlabel('Predicted Labels')
plt.ylabel('True Labels')
plt.title('Confusion Matrix')
plt.show()

# %%
from sklearn.metrics import confusion_matrix
mat=confusion_matrix(y_test,model_gb.predict(x_test))
df_cm = pd.DataFrame(mat, list(targets.values()), list(targets.values()))
#sns.se(font_scale=1.0) # for label size
plt.figure(figsize = (12,8))
sns.heatmap(df_cm, annot=True, annot_kws={"size": 12},cmap="terrain")

# %%
import joblib
joblib.dump(model_gb, "crop_prediction_model.pkl")

# %%
c=df.label.astype('category')
targets = dict(enumerate(c.cat.categories))
targets

# %%


